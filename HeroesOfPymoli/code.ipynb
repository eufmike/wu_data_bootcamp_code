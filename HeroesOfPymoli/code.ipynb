{
  "cells": [
    {
      "cell_type": "markdown",
      "metadata": {},
      "source": [
        "# Unit 4: Assignment - Pandas, Pandas, Pandas\n",
        "## Project: Heroes of Pymoli\n",
        "\n",
        "Heroes Of Pymoli Data Analysis\n",
        "\n",
        "* Of the 1163 active players, the vast majority are male (84%). There also exists, a smaller, but notable proportion of female players (14%).\n",
        "\n",
        "* Our peak age demographic falls between 20-24 (44.8%) with secondary groups falling between 15-19 (18.60%) and 25-29 (13.4%).\n",
        "\n",
        "Note\n",
        "\n",
        "* Instructions have been included for each segment. You do not have to follow them exactly, but they are included to help you think through the steps.\n",
        "\n",
        "\b"
      ]
    },
    {
      "cell_type": "code",
      "metadata": {},
      "source": [
        "import os, sys\n",
        "import numpy as np\n",
        "import pandas as pd\n",
        "import matplotlib.pyplot as plt\n",
        "import time"
      ],
      "outputs": [],
      "execution_count": null
    },
    {
      "cell_type": "code",
      "metadata": {},
      "source": [
        "# path = '/Users/michaelshih/Documents/code/education/wu_data_bootcamp_code/HeroesOfPymoli'\n",
        "path = '/Volumes/MacProSSD2/code/wu_data_bootcamp_code/HeroesOfPymoli'\n",
        "\n",
        "subfolder = 'Resources'\n",
        "filename = 'purchase_data.csv'\n",
        "filepath = os.path.join(path, subfolder, filename)\n",
        "\n",
        "data = pd.read_csv(filepath, header = 0)\n",
        "data = pd.DataFrame(data)\n",
        "data.head(10)"
      ],
      "outputs": [],
      "execution_count": null
    },
    {
      "cell_type": "markdown",
      "metadata": {},
      "source": [
        "# Player Count\n",
        "* Display the total number of players"
      ]
    },
    {
      "cell_type": "code",
      "metadata": {},
      "source": [
        "playercount = len(data['SN'].unique())\n",
        "# print(playercount)\n",
        "playercount_df = pd.DataFrame({'Total Players': [playercount]})\n",
        "playercount_df"
      ],
      "outputs": [],
      "execution_count": null
    },
    {
      "cell_type": "markdown",
      "metadata": {},
      "source": [
        "# Purchasing Analysis (Total)\n",
        "* Run basic calculations to obtain number of unique items, average price, etc.\n",
        "* Create a summary data frame to hold the results\n",
        "* Optional: give the displayed data cleaner formatting\n",
        "* Display the summary data frame"
      ]
    },
    {
      "cell_type": "code",
      "metadata": {},
      "source": [
        "unqitm = len(data['Item ID'].unique())\n",
        "avgprice = data['Price'].mean()\n",
        "totalprch = len(data['Purchase ID'].unique())\n",
        "totalprice = data['Price'].sum()\n",
        "\n",
        "primary_analysis_df = pd.DataFrame({\n",
        "    'Number of Unique Items': [unqitm],\n",
        "    'Average Price': [avgprice], \n",
        "    'Number of Purchases': [totalprch], \n",
        "    'Total Revenue': [totalprice],\n",
        "})\n",
        "primary_analysis_df['Average Price'] = primary_analysis_df['Average Price'].map('${:.2f}'.format)\n",
        "primary_analysis_df['Total Revenue'] = primary_analysis_df['Total Revenue'].map('${:,.2f}'.format)\n",
        "primary_analysis_df"
      ],
      "outputs": [],
      "execution_count": null
    },
    {
      "cell_type": "markdown",
      "metadata": {},
      "source": [
        "# Gender Demographics\n",
        "* Percentage and Count of Male Players\n",
        "* Percentage and Count of Female Players\n",
        "* Percentage and Count of Other / Non-Disclosed"
      ]
    },
    {
      "cell_type": "code",
      "metadata": {},
      "source": [
        "data_sn = data.loc[:, ['SN', 'Gender']]\n",
        "\n",
        "gender_factor = data['Gender'].unique()\n",
        "\n",
        "gender_count = []\n",
        "for i in gender_factor:\n",
        "    count = data_sn[data_sn['Gender'] == i]['SN'].nunique()\n",
        "    gender_count.append(count)\n",
        "\n",
        "gender_percentage = np.array(gender_count) / playercount * 100\n",
        "\n",
        "gender_analysis_df_01 = pd.DataFrame({\n",
        "    'Percentage of Players': gender_percentage, \n",
        "    'Total Count': gender_count, \n",
        "}, index=gender_factor)\n",
        "gender_analysis_df_01['Percentage of Players'] = \\\n",
        "    gender_analysis_df_01['Percentage of Players'].map('{:.2f}%'.format)\n",
        "\n",
        "gender_analysis_df_01"
      ],
      "outputs": [],
      "execution_count": null
    },
    {
      "cell_type": "markdown",
      "metadata": {},
      "source": [
        "# Purchasing Analysis (Gender)\n",
        "* Run basic calculations to obtain purchase count, avg. purchase price, avg. purchase total per person etc. by gender\n",
        "* Create a summary data frame to hold the results\n",
        "* Optional: give the displayed data cleaner formatting\n",
        "* Display the summary data frame"
      ]
    },
    {
      "cell_type": "code",
      "metadata": {},
      "source": [
        "# Purchase Count\n",
        "gender_purchase_count = data.groupby(['Gender'])[['Purchase ID']].count()\n",
        "\n",
        "# Average Purchase Price\n",
        "gender_avg_purchase_price = data.groupby(['Gender'])[['Price']].mean()\n",
        "gender_avg_purchase_price['Price'] = gender_avg_purchase_price['Price'].map('${:.2f}'.format)\n",
        "\n",
        "# Total Purchase Value\n",
        "gender_totalprch = data.groupby(['Gender'])[['Price']].sum()\n",
        "gender_totalprch['Price'] = gender_totalprch['Price'].map('${:.2f}'.format)\n",
        "\n",
        "# Average Purchase Total per Person by Gender\n",
        "gender_data_gb = data.groupby(['Gender', 'SN'])[['Price']].mean()\n",
        "gender_data_gb_2 = gender_data_gb.groupby(['Gender']).mean()\n",
        "gender_data_gb_2['Price'] = gender_data_gb_2['Price'].map('${:.2f}'.format)\n",
        "\n",
        "gender_analysis_df_02 = pd.concat([gender_purchase_count, \\\n",
        "                                    gender_avg_purchase_price, \\\n",
        "                                    gender_totalprch, \\\n",
        "                                    gender_data_gb_2\n",
        "                                    ], axis = 1)\n",
        "\n",
        "                                    \n",
        "gender_analysis_df_02.columns = ['Purchase Count', \\\n",
        "                                    'Average Purchase Price', \\\n",
        "                                    'Total Purchase Value', \\\n",
        "                                    'Avg Purchase Total per Person']\n",
        "gender_analysis_df_02"
      ],
      "outputs": [],
      "execution_count": null
    },
    {
      "cell_type": "markdown",
      "metadata": {},
      "source": [
        "# Age Demographics\n",
        "* Establish bins for ages\n",
        "* Categorize the existing players using the age bins. Hint: use pd.cut()\n",
        "* Calculate the numbers and percentages by age group\n",
        "* Create a summary data frame to hold the results\n",
        "* Optional: round the percentage column to two decimal points\n",
        "* Display Age Demographics Table"
      ]
    },
    {
      "cell_type": "code",
      "metadata": {},
      "source": [
        "# bin data\n",
        "bin = [0, 9.90, 14.90, 19.90, 24.90, 29.90, 34.90, 39.90, 99999]\n",
        "group_names = [\"<10\", \"10-14\", \"15-19\", \"20-24\", \"25-29\", \"30-34\", \"35-39\", \"40+\"]\n",
        "\n",
        "data_age = data\n",
        "data_age['age_range'] = pd.cut(data_age['Age'], list(bin), labels = group_names)\n",
        "data_age\n",
        "\n",
        "# data processing\n",
        "age_prch_count = data_age.groupby(['age_range', 'SN'])[['SN']].count()\n",
        "age_prch_count = age_prch_count.groupby(['age_range']).sum()\n",
        "\n",
        "age_prch_count = age_prch_count.rename(index=str, columns={'SN': 'Total Count'})\n",
        "\n",
        "# Average Purchase Price\n",
        "age_prch_percentage = np.array(age_prch_count['Total Count']) / playercount * 100\n",
        "\n",
        "age_prch_count['Percentage of Players'] = age_prch_percentage\n",
        "age_prch_count['Percentage of Players'] = age_prch_count['Percentage of Players'].map(\"{:.2f}%\".format)\n",
        "age_prch_count\n",
        "\n",
        "age_analysis_df_01 = age_prch_count"
      ],
      "outputs": [],
      "execution_count": null
    },
    {
      "cell_type": "markdown",
      "metadata": {},
      "source": [
        "# Purchasing Analysis (Age)\n",
        "* Bin the purchase_data data frame by age\n",
        "* Run basic calculations to obtain purchase count, avg. purchase price, avg. purchase total per person etc. in the table below\n",
        "* Create a summary data frame to hold the results\n",
        "* Optional: give the displayed data cleaner formatting\n",
        "* Display the summary data frame"
      ]
    },
    {
      "cell_type": "code",
      "metadata": {},
      "source": [
        "# Purchase Count\n",
        "age_purchase_count = data.groupby(['age_range'])[['Purchase ID']].count()\n",
        "age_purchase_count['Purchase ID'] = age_purchase_count['Purchase ID'].map(\"${:.2f}\".format)\n",
        "\n",
        "# Average Purchase Price\n",
        "age_avg_purchase_price = data.groupby(['age_range'])[['Price']].mean()\n",
        "age_avg_purchase_price['Price'] = age_avg_purchase_price['Price'].map(\"${:.2f}\".format)\n",
        "\n",
        "# Total Purchase Value\n",
        "age_totalprch = data.groupby(['age_range'])[['Price']].sum()\n",
        "age_totalprch['Price'] = age_totalprch['Price'].map(\"${:.2f}\".format)\n",
        "\n",
        "# Average Purchase Total per Person\n",
        "age_prch_count = data_age.groupby(['age_range', 'SN'])[['Price']].mean()\n",
        "age_prch_count = age_prch_count.groupby(['age_range']).mean()\n",
        "age_prch_count['Price'] = age_prch_count['Price'].map(\"${:.2f}\".format)\n",
        "\n",
        "age_analysis_df_02 = pd.concat([age_purchase_count, \\\n",
        "                                age_avg_purchase_price, \\\n",
        "                                age_totalprch,\\\n",
        "                                age_prch_count\n",
        "                                ], axis = 1)\n",
        "age_analysis_df_02.columns = ['Purchase Count', \\\n",
        "                                'Average Purchase Price', \\\n",
        "                                'Total Purchase Value', \\\n",
        "                                'Avg Purchase Total per Person']\n",
        "age_analysis_df_02"
      ],
      "outputs": [],
      "execution_count": null
    },
    {
      "cell_type": "markdown",
      "metadata": {},
      "source": [
        "# Top Spenders\n",
        "* Run basic calculations to obtain the results in the table below\n",
        "* Create a summary data frame to hold the results\n",
        "* Sort the total purchase value column in descending order\n",
        "* Optional: give the displayed data cleaner formatting\n",
        "* Display a preview of the summary data frame"
      ]
    },
    {
      "cell_type": "code",
      "metadata": {},
      "source": [
        "spender_top_sum = data.groupby(['SN'])[['Price']].sum()\n",
        "spender_top_count = data.groupby(['SN'])[['Purchase ID']].count()\n",
        "spender_top_avg = data.groupby(['SN'])[['Price']].mean()\n",
        "spender_top = pd.concat([spender_top_count, spender_top_avg, spender_top_sum], axis = 1)\n",
        "spender_top.columns = ['Purchase Count', 'Average Purchase Price', 'Total Purchase Value'] \n",
        "spender_top = spender_top.sort_values('Total Purchase Value', ascending=False)\n",
        "\n",
        "# clean format\n",
        "spender_top['Average Purchase Price'] = spender_top['Average Purchase Price'].map(\"${:.2f}\".format)\n",
        "spender_top['Total Purchase Value'] = spender_top['Total Purchase Value'].map(\"${:.2f}\".format)\n",
        "\n",
        "topspender_analysis_df = spender_top.head(5)\n",
        "topspender_analysis_df"
      ],
      "outputs": [],
      "execution_count": null
    },
    {
      "cell_type": "markdown",
      "metadata": {},
      "source": [
        "# Most Popular Items\n",
        "* Retrieve the Item ID, Item Name, and Item Price columns\n",
        "* Group by Item ID and Item Name. Perform calculations to obtain purchase count, item price, and total purchase value\n",
        "* Create a summary data frame to hold the results\n",
        "* Sort the purchase count column in descending order\n",
        "* Optional: give the displayed data cleaner formatting\n",
        "* Display a preview of the summary data frame"
      ]
    },
    {
      "cell_type": "code",
      "metadata": {},
      "source": [
        "item_top_count = data.groupby(['Item ID', 'Item Name'])[['Purchase ID']].count()\n",
        "item_top_avg = data.groupby(['Item ID', 'Item Name'])[['Price']].mean()\n",
        "item_top_sum = data.groupby(['Item ID', 'Item Name'])[['Price']].sum()\n",
        "item_top = pd.concat([item_top_count, item_top_avg, item_top_sum], axis = 1)\n",
        "\n",
        "item_top.columns = ['Purchase Count', 'Average Purchase Price', 'Total Purchase Value'] \n",
        "item_top = item_top.sort_values('Purchase Count', ascending=False)\n",
        "\n",
        "item_top['Average Purchase Price'] = item_top['Average Purchase Price'].map(\"${:.2f}\".format)\n",
        "item_top['Total Purchase Value'] = item_top['Total Purchase Value'].map(\"${:.2f}\".format)\n",
        "\n",
        "topitem_analysis_df = item_top.head(5)\n",
        "topitem_analysis_df"
      ],
      "outputs": [],
      "execution_count": null
    },
    {
      "cell_type": "markdown",
      "metadata": {},
      "source": [
        "# Most Profitable Items\n",
        "* Sort the above table by total purchase value in descending order\n",
        "* Optional: give the displayed data cleaner formatting\n",
        "* Display a preview of the data frame"
      ]
    },
    {
      "cell_type": "code",
      "metadata": {},
      "source": [
        "item_top_2 = pd.concat([item_top_count, item_top_avg, item_top_sum], axis = 1)\n",
        "item_top_2.columns = ['Purchase Count', 'Average Purchase Price', 'Total Purchase Value'] \n",
        "item_top_2 = item_top_2.sort_values('Total Purchase Value', ascending=False)\n",
        "\n",
        "item_top_2['Average Purchase Price'] = item_top_2['Average Purchase Price'].map(\"${:.2f}\".format)\n",
        "item_top_2['Total Purchase Value'] = item_top_2['Total Purchase Value'].map(\"${:.2f}\".format)\n",
        "\n",
        "topitem_analysis_df_2 = item_top_2.head(5)\n",
        "topitem_analysis_df_2"
      ],
      "outputs": [],
      "execution_count": null
    }
  ],
  "metadata": {
    "anaconda-cloud": {},
    "kernelspec": {
      "display_name": "Python 3",
      "language": "python",
      "name": "python3"
    },
    "language_info": {
      "codemirror_mode": {
        "name": "ipython",
        "version": 3
      },
      "file_extension": ".py",
      "mimetype": "text/x-python",
      "name": "python",
      "nbconvert_exporter": "python",
      "pygments_lexer": "ipython3",
      "version": "3.6.1"
    }
  },
  "nbformat": 4,
  "nbformat_minor": 1
}